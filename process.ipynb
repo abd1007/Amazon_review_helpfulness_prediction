{
 "cells": [
  {
   "cell_type": "code",
   "execution_count": 1,
   "metadata": {},
   "outputs": [
    {
     "name": "stderr",
     "output_type": "stream",
     "text": [
      "/home/ubuntu/anaconda2/lib/python2.7/site-packages/sklearn/cross_validation.py:44: DeprecationWarning: This module was deprecated in version 0.18 in favor of the model_selection module into which all the refactored classes and functions are moved. Also note that the interface of the new CV iterators are different from that of this module. This module will be removed in 0.20.\n",
      "  \"This module will be removed in 0.20.\", DeprecationWarning)\n"
     ]
    }
   ],
   "source": [
    "from __future__ import unicode_literals\n",
    "import numpy as np\n",
    "import pandas as pd\n",
    "import matplotlib.pyplot as plt\n",
    "import time\n",
    "import json\n",
    "import gzip\n",
    "import spacy\n",
    "import textacy\n",
    "%matplotlib inline\n",
    "np.random.seed(32113)\n",
    "import pickle\n",
    "from sklearn.decomposition import NMF\n",
    "from nltk.tokenize import word_tokenize\n",
    "from nltk.corpus import stopwords\n",
    "from nltk.stem.porter import PorterStemmer\n",
    "from nltk.stem.snowball import SnowballStemmer\n",
    "from nltk.stem.wordnet import WordNetLemmatizer\n",
    "from sklearn.feature_extraction.text import CountVectorizer, TfidfVectorizer\n",
    "from sklearn.feature_extraction.stop_words import ENGLISH_STOP_WORDS\n",
    "from sklearn.decomposition import NMF\n",
    "from nltk.corpus import stopwords\n",
    "from spacy.en import English\n",
    "import string\n",
    "parser = English()\n",
    "import data_prep as dp\n",
    "import math"
   ]
  },
  {
   "cell_type": "markdown",
   "metadata": {},
   "source": [
    "---------------------------"
   ]
  },
  {
   "cell_type": "markdown",
   "metadata": {},
   "source": [
    "## Loading data"
   ]
  },
  {
   "cell_type": "code",
   "execution_count": 2,
   "metadata": {
    "collapsed": true
   },
   "outputs": [],
   "source": [
    "# loading reviews and meta data\n",
    "path = './data/reviews_Home_and_Kitchen.json.gz'\n",
    "meta_path = './data/meta_Home_and_Kitchen.json.gz'"
   ]
  },
  {
   "cell_type": "markdown",
   "metadata": {},
   "source": [
    "### Before creating  a model:\n",
    "In order to create an accurate model, we want to filter reviews.  \n",
    "we filter review by looking at categories of product in meta data. \n",
    "  \n",
    "Below are codes to check products associated with review data.\n",
    "It displays types of categories and number of 'Home & Kitchen' products that are associated with each category.  \n",
    "As you can see, there are many 'Home & kitchen' products  \n",
    "that are associated with categories that are unrelated to Home & Kitchen. \n",
    "By looking at this list, we can decide how to filter products.  \n",
    "  \n",
    "In this case, I would filter out categories where total number is less than 2000.  \n",
    "If you want to strictly work on Home & kitchen products, I will filter out categories less than 10000.  \n",
    "\n",
    "Once we merge review data and meta data, we will filter out reviews by these categories."
   ]
  },
  {
   "cell_type": "code",
   "execution_count": 5,
   "metadata": {},
   "outputs": [
    {
     "name": "stdout",
     "output_type": "stream",
     "text": [
      "                             asin  salesRank   imUrl  categories   title  \\\n",
      "rank_keys                                                                  \n",
      "Appliances                     68         68      68          68      68   \n",
      "Arts, Crafts & Sewing        1776       1776    1776        1776    1776   \n",
      "Automotive                     38         38      38          38      11   \n",
      "Baby                          153        153     153         153     153   \n",
      "Beauty                        604        604     604         604     604   \n",
      "Books                           1          1       1           1       1   \n",
      "Camera &amp; Photo             60         60      60          60      60   \n",
      "Cell Phones & Accessories       8          8       8           8       8   \n",
      "Clothing                     1489       1489    1489        1489    1489   \n",
      "Computers & Accessories        12         12      12          12      12   \n",
      "Electronics                   671        671     671         671     671   \n",
      "Grocery & Gourmet Food         15         15      15          15      15   \n",
      "Health & Personal Care       3734       3734    3734        3734    3734   \n",
      "Home & Kitchen              22913         92   22542       22913   21394   \n",
      "Home &amp; Kitchen         212881     212881  212881      212881  212866   \n",
      "Home Improvement              488        488     488         488     488   \n",
      "Industrial & Scientific      3632       3632    3632        3632    3632   \n",
      "Jewelry                       186        186     186         186     186   \n",
      "Kitchen & Dining           176767     176767  176767      176767  176759   \n",
      "Musical Instruments           132        132     132         132     132   \n",
      "Office Products                70         70      70          70      70   \n",
      "Patio, Lawn & Garden         2190       2190    2190        2190    2190   \n",
      "Pet Supplies                  490        490     490         490     490   \n",
      "Shoes                         413        413     413         413     413   \n",
      "Software                       52         52      52          52       1   \n",
      "Sports &amp; Outdoors        3869       3869    3869        3869    3869   \n",
      "Toys & Games                 4141       4141    4141        4141    4141   \n",
      "Video Games                   120        120     120         120       1   \n",
      "Watches                        15         15      15          15      15   \n",
      "\n",
      "                           description   price  brand  related  rank_values  \n",
      "rank_keys                                                                    \n",
      "Appliances                          68      59     52       68           68  \n",
      "Arts, Crafts & Sewing             1706    1429    822     1357         1776  \n",
      "Automotive                          36      35      9       38           38  \n",
      "Baby                               153     145     86      148          153  \n",
      "Beauty                             557     444    208      482          604  \n",
      "Books                                0       0      0        0            1  \n",
      "Camera &amp; Photo                  55      51     14       53           60  \n",
      "Cell Phones & Accessories            8       7      1        7            8  \n",
      "Clothing                             2     857    272      957         1489  \n",
      "Computers & Accessories             12      11      8       11           12  \n",
      "Electronics                        621     421    166      441          671  \n",
      "Grocery & Gourmet Food              15      15     12       15           15  \n",
      "Health & Personal Care            3479    2547   1446     2682         3734  \n",
      "Home & Kitchen                   19809   14750   7906    14220        22913  \n",
      "Home &amp; Kitchen              197148  135866  62958   141897       212881  \n",
      "Home Improvement                   488     436    364      425          488  \n",
      "Industrial & Scientific           3520    3143   1579     3092         3632  \n",
      "Jewelry                              0     134      7      132          186  \n",
      "Kitchen & Dining                167909  117484  72241   126992       176767  \n",
      "Musical Instruments                123     111     50      104          132  \n",
      "Office Products                     70      57     45       56           70  \n",
      "Patio, Lawn & Garden              2099    1591   1042     1695         2190  \n",
      "Pet Supplies                       470     382    205      334          490  \n",
      "Shoes                                0     182     38      277          413  \n",
      "Software                            44      28      1       30           52  \n",
      "Sports &amp; Outdoors             3571    2433   1473     2426         3869  \n",
      "Toys & Games                      3742    2450   1602     2806         4141  \n",
      "Video Games                         88      89      0      100          120  \n",
      "Watches                              0      11      4       12           15  \n"
     ]
    }
   ],
   "source": [
    "#run this code if you do not know if products belong to unrelated categories\n",
    "df_test = dp.Data_prep1(path)\n",
    "meta = dp.getDF(meta_path)\n",
    "meta = dp.add_meta_info(df_test,meta,'Home & Kitchen',20,True)"
   ]
  },
  {
   "cell_type": "markdown",
   "metadata": {},
   "source": [
    "------------"
   ]
  },
  {
   "cell_type": "markdown",
   "metadata": {},
   "source": [
    "## Preparing train and test data"
   ]
  },
  {
   "cell_type": "markdown",
   "metadata": {},
   "source": [
    "### Merging data, Cleaning Meta data  \n",
    "the function **df_prep1** will do three things for you:  \n",
    "1. Cleaning meta data for you (gets rid of Nan values)  \n",
    "2. Add features created from Meta data (categories, sales ranking within the categories and price)   \n",
    "3. Filter out categories that are not associated with the data topics  \n",
    "4. Merge meta data with review datas and output pandas dataframe \n",
    "5. reassign values of 'helpful' features into 2 values and calculate percentage of positive votes on a review.  \n",
    "  \n",
    "inputs:  \n",
    "**dp.df_prep1( a , b , c , d )**  \n",
    "a = path of your review data (json.gz format)  \n",
    "b = path of your meta data (json.gz format)  \n",
    "c = topic keys: category names that every product in your dataset is associated with.  \n",
    "for example: 'Video Games', 'Home &amp; Kitchen' etc.  \n",
    "d = filtering out categoiry if the total number of product associated with that category is less than this number.  "
   ]
  },
  {
   "cell_type": "code",
   "execution_count": 7,
   "metadata": {},
   "outputs": [
    {
     "name": "stdout",
     "output_type": "stream",
     "text": [
      "average price for Home &amp; Kitchen is $129.110169121\n"
     ]
    },
    {
     "name": "stderr",
     "output_type": "stream",
     "text": [
      "data_prep_new.py:493: SettingWithCopyWarning: \n",
      "A value is trying to be set on a copy of a slice from a DataFrame.\n",
      "Try using .loc[row_indexer,col_indexer] = value instead\n",
      "\n",
      "See the caveats in the documentation: http://pandas.pydata.org/pandas-docs/stable/indexing.html#indexing-view-versus-copy\n",
      "  df_topic['price'] = df_topic['price'].fillna(average_val)\n"
     ]
    },
    {
     "name": "stdout",
     "output_type": "stream",
     "text": [
      "average price for Home & Kitchen is $132.971979089\n",
      "average price for Kitchen & Dining is $77.4992568967\n",
      "--- 857.797745943 seconds ---\n"
     ]
    }
   ],
   "source": [
    "df= dp.df_prep1(path, meta_path,'Home & Kitchen',5000)\n",
    "# should spit out average price for each category.  \n",
    "# these price will be filling Nan under price feature"
   ]
  },
  {
   "cell_type": "code",
   "execution_count": 8,
   "metadata": {},
   "outputs": [
    {
     "name": "stdout",
     "output_type": "stream",
     "text": [
      "81775\n"
     ]
    }
   ],
   "source": [
    "print len(df)"
   ]
  },
  {
   "cell_type": "markdown",
   "metadata": {},
   "source": [
    "### Split train and test dataset:\n",
    "In NLP prediction model, it is safe to run train and test dataset before running model building functions.  \n",
    "Here, we are randomly selecting 85% of data as a train dataset.  \n",
    "and assign rest of the data as test dataset.  "
   ]
  },
  {
   "cell_type": "code",
   "execution_count": 9,
   "metadata": {
    "collapsed": true
   },
   "outputs": [],
   "source": [
    "ind = df.index\n",
    "random_ind = np.random.choice(list(ind), int(len(df)*.85), replace=False)\n",
    "df_train = df.loc[list(random_ind)]\n",
    "test_ind = [i for i in ind if i not in random_ind]\n",
    "df_test = df.loc[test_ind]\n"
   ]
  },
  {
   "cell_type": "code",
   "execution_count": 13,
   "metadata": {
    "collapsed": true
   },
   "outputs": [],
   "source": [
    "## if you want to save test and training dataframe...\n",
    "# df_test.to_pickle(\"./HomeandKitchen_df_test_15percent.pkl\")\n",
    "# df_train.to_pickle(\"./HomeandKitchen_df_train_85percent.pkl\")"
   ]
  },
  {
   "cell_type": "markdown",
   "metadata": {},
   "source": [
    "### tfidf model\n",
    "**df_prep_train1** function creates tfidf matrix and tfidf sklearn model.  \n",
    "It also saves tfidf matrix and tfidf skearn model as a pickle file in case something happens later.  \n",
    "  \n",
    "inputs:\n",
    "**df_prep_train1( a , b , c(optional) )**  \n",
    "a = your training dataframe created above  \n",
    "b = filename/keyword. this string will be used to name tfidf matrix and tfidf sklearn model pickle file.  \n",
    "c = a list containing parameters of TfidfVectorizer sklearn class. this is optional.  \n",
    "default values for this input is:  tfidf_set = [2,0.95,10000,'l2']  \n",
    "  \n",
    "where TfidfVectorizer(stop_words=STOPLIST, tokenizer=lemma, min_df=tfidf_set[0], max_df=tfidf_set[1], max_features =tfidf_set[2], norm=tfidf_set[3])  \n",
    "  \n",
    "visit Sklearn web for more details.     \n",
    "http://scikit-learn.org/stable/modules/generated/sklearn.feature_extraction.text.TfidfVectorizer.html"
   ]
  },
  {
   "cell_type": "code",
   "execution_count": 10,
   "metadata": {},
   "outputs": [
    {
     "name": "stdout",
     "output_type": "stream",
     "text": [
      "--- 695.414065123 seconds ---\n"
     ]
    }
   ],
   "source": [
    "tfidf_matrix, tfidf_model  = dp.df_prep_train1(df_train,'HomeAndKitchen')"
   ]
  },
  {
   "cell_type": "markdown",
   "metadata": {},
   "source": [
    "### before running NMF, check your elbow!\n",
    "the function **NMF_elbow** will give you stats about reconstruction error for different K component.  \n",
    "you want to chose right K where slope changes significantly.  \n",
    "Since the data we are using does not have obvious elbow,  \n",
    "I added error difference between K and error of each K.  \n",
    "\n",
    "inputs:  \n",
    "**NMF_elbow( a , b )**  \n",
    "a = your tfidf matrix  \n",
    "b = range of K (list)  "
   ]
  },
  {
   "cell_type": "code",
   "execution_count": 11,
   "metadata": {},
   "outputs": [
    {
     "name": "stdout",
     "output_type": "stream",
     "text": [
      "calculated in 162.172966003 seconds \n",
      "\n",
      "\n",
      "error difference\n",
      "1.07929379637\n",
      "0.858621313474\n",
      "0.789527637731\n",
      "0.815067794558\n",
      "0.658543930188\n",
      "0.595061152613\n",
      "0.562621833959\n",
      "0.550520568273\n",
      "0.527111543583\n",
      "0.446938722788\n",
      "\n",
      "\n",
      "error k = 1: 259.161844291\n",
      "error k = 2: 258.082550495\n",
      "error k = 3: 257.223929181\n",
      "error k = 4: 256.434401544\n",
      "error k = 5: 255.619333749\n",
      "error k = 6: 254.960789819\n",
      "error k = 7: 254.365728666\n",
      "error k = 8: 253.803106832\n",
      "error k = 9: 253.252586264\n",
      "error k = 10: 252.72547472\n",
      "error k = 11: 252.278535998\n"
     ]
    },
    {
     "data": {
      "image/png": "[encoded data removed]",
      "text/plain": [
       "<matplotlib.figure.Figure at 0x7f031597c7d0>"
      ]
     },
     "metadata": {},
     "output_type": "display_data"
    }
   ],
   "source": [
    "dp.NMF_elbow(tfidf_matrix, range(1,12))"
   ]
  },
  {
   "cell_type": "markdown",
   "metadata": {},
   "source": [
    "### Adding NMF results and tfidf results onto training dataset\n",
    "**df_prep_train2** function does lots of things here.\n",
    "1. calculate NMF from the tfidf matrix that you created from df_prep_train1\n",
    "2. add NMF results as features (predict percentage values for each NMF topics)\n",
    "3. print outs top 20 words that are highly associated with each NMF topics.\n",
    "4. add tfidf results to training dataset  \n",
    "(you can select how many words you want to add to the data frame by choosing values for max_feat (e))  \n",
    "5. saves resulting training dataframe, NMF model and tfidf feature model as pickle files\n",
    "\n",
    "inputs:  \n",
    "**df_prep_train2**( a , b , c , d , e (opt) , f (opt), g (opt))  \n",
    "a = training dataframe.  \n",
    "b = filename/keyword. this string will be used to name NMF model and tfidf feature model pickle file.  \n",
    "c = tfidf matrix.\n",
    "d = tfidf model.  \n",
    "e = max feature (optional). default value = 1000. \n",
    "will create tfidf model with top 1000 (default) words   \n",
    "and create features of these top 1000 words in your training dataframe.  \n",
    "f = NMF parameters (optional). default values NMF_set = [6,'cd',0.1,0.5].  \n",
    "where NMF(n_components=NMF_set[0], solver=NMF_set[1], random_state=32113, alpha=NMF_set[2], l1_ratio=NMF_set[3])  \n",
    "visit Sklearn web for more details.  \n",
    "http://scikit-learn.org/stable/modules/generated/sklearn.decomposition.NMF.html  \n",
    "\n",
    "g = tfidf parameters (optional). default values = [2,0.95,10000,'l2'].  \n",
    "  \n",
    "where TfidfVectorizer(stop_words=STOPLIST, tokenizer=lemma, min_df=tfidf_set[0], max_df=tfidf_set[1], max_features =tfidf_set[2], norm=tfidf_set[3])  \n",
    "visit Sklearn web for more details.  \n",
    "http://scikit-learn.org/stable/modules/generated/sklearn.feature_extraction.text.TfidfVectorizer.html  \n",
    "(3rd value will be replaced by max feature (e))  "
   ]
  },
  {
   "cell_type": "code",
   "execution_count": 4,
   "metadata": {
    "scrolled": true
   },
   "outputs": [
    {
     "name": "stdout",
     "output_type": "stream",
     "text": [
      "Topic #0:\n",
      "machine blender ice use make juicer juice cream bowl mixer clean blade easy food bread time fruit smoothie good dough\n",
      "Topic #1:\n",
      "coffee cup water maker machine brew filter grind carafe grinder espresso hot ground pot make bean use pour mug taste\n",
      "Topic #2:\n",
      "vacuum carpet floor clean dyson dirt bag suction hair brush dust cleaner attachment hose use canister pick hoover vac filter\n",
      "Topic #3:\n",
      "knife blade sharp set sharpen cut edge chef sharpener handle slice steel block use henckel wusthof good steak hand dull\n",
      "Topic #4:\n",
      "pan stick cook non use heat cookware pot egg set oil iron food grill handle cast skillet clean surface calphalon\n",
      "Topic #5:\n",
      "mattress bed pillow sleep sheet foam memory pad night topper soft comfortable feel firm cover like smell queen wake good\n",
      "Topic #6:\n",
      "rice cooker cook pot pressure slow brown cooking steam cup water lid time use warm crock food make steamer minute\n",
      "Topic #7:\n",
      "unit fan air room water heater filter heat cool run window temperature work low turn quiet use high noise setting\n",
      "Topic #8:\n",
      "oven toaster toast bread cook pizza convection bake bagel use microwave timer rack slice burn heat setting time door tray\n",
      "Topic #9:\n",
      "product buy look item amazon use good like make purchase order review work return set say price quality time great\n",
      "()\n",
      "--- 704.816004992 seconds ---\n"
     ]
    }
   ],
   "source": [
    "df_train_new,NMF_model,TFIDF_feat_model = dp.df_prep_train2(df_train, 'HomeAndKitchen', tfidf_matrix, tfidf_model,1000, [10,'cd',0.1,0.5])"
   ]
  },
  {
   "cell_type": "code",
   "execution_count": 10,
   "metadata": {
    "collapsed": true
   },
   "outputs": [],
   "source": [
    "# in case you need to load each model, you can load models here\n",
    "\n",
    "## df_prep1/train-test split result\n",
    "#df_train = pd.read_pickle('./HomeandKitchen_df_train_85percent.pkl')\n",
    "#df_test = pd.read_pickle('./HomeandKitchen_df_test_15percent.pkl')\n",
    "\n",
    "# df_prep_train1 results\n",
    "# with open(r\"HomeAndKitchen_tfidf_matrix.pickle\", \"rb\") as input_file:\n",
    "#    tfidf_matrix = pickle.load(input_file)\n",
    "# with open(r\"HomeAndKitchen_tfidf_model.pickle\", \"rb\") as input_file:\n",
    "#    tfidf_model= pickle.load(input_file)\n",
    "\n",
    "# df_prep_train2 results\n",
    "df_train_new = pd.read_pickle('./preped_HomeAndKitchen_max_feature1000.pkl')\n",
    "# with open('HomeAndKitchen_NMF_model.pickle', \"rb\") as input_file:\n",
    "#     NMF_model = pickle.load(input_file)\n",
    "# with open(r\"HomeAndKitchen_tfidf_feat_model.pickle\", \"rb\") as input_file:\n",
    "#     TFIDF_feat_model= pickle.load(input_file)\n",
    "df_test_new = pd.read_pickle('./preped_HomeAndKitchen_df_test.pkl')"
   ]
  },
  {
   "cell_type": "markdown",
   "metadata": {},
   "source": [
    "### Preparing test dataset\n",
    "\n",
    "Now we want to prepare test dataset.  \n",
    "I simply used MNF and tfidf models of training dataset to transform test dataset.  \n",
    "\n",
    "\n",
    "**df_prep_test** function adds features for test data.  \n",
    "It uses transform method of NMF and tfidf models that we just trained with training dataset.  \n",
    "The function outputs test dataframe which contains same amount of features as training dataframe.  \n",
    "It also saves output dataframe as a pickle file.  \n",
    "\n",
    "inputs:  \n",
    "**df_prep_test**( a , b , c , d , e )  \n",
    "a = test dataframe we created previously. (read Split train and test dataset section above)  \n",
    "b = tfidf model trained with training dataframe.  \n",
    "c = NMF model that was trained with training dataframe.\n",
    "d = second tfidf model that is used to create tfidf term features.  \n",
    "e = filename/keywords used as a name of pickle file.  "
   ]
  },
  {
   "cell_type": "code",
   "execution_count": 8,
   "metadata": {},
   "outputs": [
    {
     "name": "stdout",
     "output_type": "stream",
     "text": [
      "--- 123.56338501 seconds ---\n"
     ]
    }
   ],
   "source": [
    "df_test_new = dp.df_prep_test(df_test, tfidf_model,NMF_model, TFIDF_feat_model, 'HomeAndKitchen')"
   ]
  },
  {
   "cell_type": "markdown",
   "metadata": {},
   "source": [
    "-----------------"
   ]
  },
  {
   "cell_type": "markdown",
   "metadata": {},
   "source": [
    "## making XGboost model"
   ]
  },
  {
   "cell_type": "markdown",
   "metadata": {},
   "source": [
    "### preparing labels for prediction modeling\n",
    "Before running prediction model with XGboost, we want to create labels for our model. \n",
    "For this prediction model, I created a feature called 'helpful_percent'  \n",
    "which indicates percentage of user voted review as helpful review.\n",
    "I want to split this feature into two groups to make my prediction model binary classifier.\n",
    "\n",
    "the function **label_prep** is a function that prepares label feature.\n",
    "It also prints out total number of reviews that belongs LOW and HIGH label class in your data frame.  \n",
    "\n",
    "input:\n",
    "**dp.label_prep( a , b )**\n",
    "a = train or test dataframe.  \n",
    "b = float value that splits label.  \n",
    "the label feature has value HIGH or LOW.  \n",
    "If the 'helpful_precent' is higher than the value of b, label == HIGH.  \n",
    "If the 'helpful_precent' is lower than the value of b, label == LOW.  \n",
    "I usually set this values around 0.75 to 0.9.  \n",
    "What I care most here is predicting HIGH correctly."
   ]
  },
  {
   "cell_type": "code",
   "execution_count": 14,
   "metadata": {},
   "outputs": [
    {
     "name": "stdout",
     "output_type": "stream",
     "text": [
      "training data:  \n",
      "highly helpful count: 56322\n",
      "not helpful count: 13186\n"
     ]
    }
   ],
   "source": [
    "#df = pd.read_pickle(\"./preped_videogame_1000_df.pkl\")\n",
    "print \"training data:  \"\n",
    "df_train_new = dp.label_prep(df_train_new, 0.80)"
   ]
  },
  {
   "cell_type": "code",
   "execution_count": 15,
   "metadata": {},
   "outputs": [
    {
     "name": "stdout",
     "output_type": "stream",
     "text": [
      "test data: \n",
      "highly helpful count: 9916\n",
      "not helpful count: 2351\n"
     ]
    }
   ],
   "source": [
    "print \"test data: \"\n",
    "df_test_new = dp.label_prep(df_test_new,0.80)"
   ]
  },
  {
   "cell_type": "markdown",
   "metadata": {},
   "source": [
    "### adjusting number of data in training and test sets\n",
    "Another step you want to apply before applying XGboost.\n",
    "Since training and test dataframe most likely have unbalanced label classes (HIGH and LOW),  \n",
    "we want to balance label classes by randomly select set numbers of reviews from each class.  \n",
    "From the print statement of previous step (label_prep), you know how many reviews exist in both HIGH and LOW label class.  \n",
    "Select a number so that the number of reviews for HIGH and LOW are about same.  \n",
    "  \n",
    "For example:  \n",
    "if label_prep prints out:\n",
    "  \n",
    "highly helpful count: 34290  \n",
    "not helpful count: 25345  \n",
    "\n",
    "I would select number 25000 (if you really want to increase number of reviews, 27500?).  \n",
    "  \n",
    "input:  \n",
    "**df_for_XGBOOST**( a , b )  \n",
    "a = dataframe  \n",
    "b = maximum number of reviews in each label class.  "
   ]
  },
  {
   "cell_type": "code",
   "execution_count": 16,
   "metadata": {
    "collapsed": true,
    "scrolled": true
   },
   "outputs": [],
   "source": [
    "train_X, train_y, df_new_train = dp.df_for_XGBOOST(df_train_new,13000)\n",
    "test_X, test_y, df_new_test = dp.df_for_XGBOOST(df_test_new,2100)"
   ]
  },
  {
   "cell_type": "markdown",
   "metadata": {},
   "source": [
    "### XGboost model\n",
    "function **XGBOOSTING** creates XGboost model, fits training dataset and prints out test data accuracy score.\n",
    "\n",
    "inputs:\n",
    "**XGBOOSTING(train_X,test_X,train_y,test_y,xgb_para=[4000,0.15])**\n",
    "a = X train  \n",
    "b = X test  \n",
    "c = label train  \n",
    "d = label test  \n",
    "e = parameters for XGboost. xgb_para = [4000,0.15]  \n",
    "where xgb = XGB.XGBClassifier(n_estimators=xgb_para[0], learning_rate=xgb_para[1])  "
   ]
  },
  {
   "cell_type": "code",
   "execution_count": null,
   "metadata": {
    "collapsed": true
   },
   "outputs": [],
   "source": [
    "model = dp.XGBOOSTING(train_X,test_X,train_y,test_y,xgb_para=[4000,0.12])"
   ]
  },
  {
   "cell_type": "markdown",
   "metadata": {},
   "source": [
    "### XGboost stats (Important Features and confusion matrix)\n",
    "following function prints out Top15 important features of the prediction model,  \n",
    "confusion matrix that is in the markdown format table,  \n",
    "LOW prediction rate and HIGH prediction rate.  \n",
    "\n",
    "input:  \n",
    "**xgb_stats**( a , b , c , d )  \n",
    "a = XGboost model  \n",
    "b = dataframe (an output of df_for_XGBOOST function)  \n",
    "c = test X data  \n",
    "d = test label data  "
   ]
  },
  {
   "cell_type": "code",
   "execution_count": 21,
   "metadata": {
    "scrolled": true
   },
   "outputs": [
    {
     "name": "stdout",
     "output_type": "stream",
     "text": [
      " **TOP15 Important Features**  \n",
      "percent_GROUP_6 : 0.768120866269%  \n",
      "place : 0.77660838142%  \n",
      "watch : 0.895433686674%  \n",
      "use : 0.950602628291%  \n",
      "percent_GROUP_2 : 1.10337799415%  \n",
      "percent_GROUP_5 : 1.19674075395%  \n",
      "firm : 1.23493466526%  \n",
      "percent_GROUP_3 : 1.32829742506%  \n",
      "percent_GROUP_8 : 1.90120525658%  \n",
      "overall : 1.9903242588%  \n",
      "percent_GROUP_1 : 2.1940248087%  \n",
      "price : 2.88151409477%  \n",
      "percent_GROUP_10 : 2.93243937194%  \n",
      "rank_values : 3.01731452346%  \n",
      "text_length : 3.08945849538%  \n",
      "\n",
      "\n",
      " |                 |       TRUE LOW       |        TRUE HIGH        |\n",
      "     |:--------------: | :-------------------:|:-----------------------:|\n",
      "     |       PRED LOW     |        1746.0        |           854.0        |\n",
      "     |       PRED HIGH     |        354.0        |           1246.0        |\n",
      "\n",
      "LOW prediction rate: 83.14%\n",
      "HIGH prediction rate: 59.33%\n",
      "\n"
     ]
    }
   ],
   "source": [
    "dp.xgb_stats(model,df_new_test,test_X,test_y)"
   ]
  },
  {
   "cell_type": "markdown",
   "metadata": {},
   "source": [
    "----------\n"
   ]
  },
  {
   "cell_type": "markdown",
   "metadata": {},
   "source": [
    "## Results Example"
   ]
  },
  {
   "cell_type": "markdown",
   "metadata": {},
   "source": [
    "Home & Kitchen  \n",
    "XGBOOST [4000 0.1]  \n",
    "--- 1143.45797396 seconds ---  \n",
    "score: 71.45%  \n",
    "\n",
    " **TOP15 Important Features**  \n",
    "percent_GROUP_6 : 0.773677928373%  \n",
    "percent_GROUP_9 : 0.82894070074%  \n",
    "use : 0.845944602042%  \n",
    "watch : 0.884203333408%  \n",
    "percent_GROUP_2 : 1.03723853827%  \n",
    "percent_GROUP_5 : 1.06699541211%  \n",
    "firm : 1.21152866632%  \n",
    "percent_GROUP_3 : 1.34330894798%  \n",
    "percent_GROUP_8 : 1.77265778184%  \n",
    "overall : 2.15524565428%  \n",
    "percent_GROUP_1 : 2.18075159937%  \n",
    "price : 2.80139427632%  \n",
    "text_length : 2.9034178704%  \n",
    "rank_values : 2.91191972792%  \n",
    "percent_GROUP_10 : 2.91191972792%  \n",
    "\n",
    "\n",
    " |                 |       TRUE LOW       |        TRUE HIGH        |  \n",
    "     |:--------------: | :-------------------:|:-----------------------:|  \n",
    "     |       PRED LOW     |        1753.0        |           852.0        |  \n",
    "     |       PRED HIGH     |        347.0        |           1248.0        |  \n",
    "\n",
    "LOW prediction rate: 83.48%  \n",
    "HIGH prediction rate: 59.43%  "
   ]
  }
 ],
 "metadata": {
  "kernelspec": {
   "display_name": "Python 2",
   "language": "python",
   "name": "python2"
  },
  "language_info": {
   "codemirror_mode": {
    "name": "ipython",
    "version": 2
   },
   "file_extension": ".py",
   "mimetype": "text/x-python",
   "name": "python",
   "nbconvert_exporter": "python",
   "pygments_lexer": "ipython2",
   "version": "2.7.13"
  }
 },
 "nbformat": 4,
 "nbformat_minor": 2
}
